{
 "cells": [
  {
   "cell_type": "code",
   "execution_count": 1,
   "metadata": {},
   "outputs": [],
   "source": [
    "import pandas as pd\n",
    "import numpy as np\n",
    "x = pd.read_csv('entradas-breast.csv')\n",
    "y = pd.read_csv('saidas-breast.csv')"
   ]
  },
  {
   "cell_type": "code",
   "execution_count": 2,
   "metadata": {},
   "outputs": [],
   "source": [
    "from sklearn.model_selection import train_test_split\n",
    "x_train, x_test, y_train, y_test = train_test_split(x, y, test_size=0.25)"
   ]
  },
  {
   "cell_type": "code",
   "execution_count": 3,
   "metadata": {},
   "outputs": [
    {
     "name": "stderr",
     "output_type": "stream",
     "text": [
      "Using TensorFlow backend.\n"
     ]
    }
   ],
   "source": [
    "import keras\n",
    "from keras.models import Sequential\n",
    "from keras.layers import Dense"
   ]
  },
  {
   "cell_type": "code",
   "execution_count": 21,
   "metadata": {},
   "outputs": [
    {
     "name": "stdout",
     "output_type": "stream",
     "text": [
      "Model: \"sequential_7\"\n",
      "_________________________________________________________________\n",
      "Layer (type)                 Output Shape              Param #   \n",
      "=================================================================\n",
      "dense_17 (Dense)             (None, 16)                496       \n",
      "_________________________________________________________________\n",
      "dense_18 (Dense)             (None, 1)                 17        \n",
      "=================================================================\n",
      "Total params: 513\n",
      "Trainable params: 513\n",
      "Non-trainable params: 0\n",
      "_________________________________________________________________\n",
      "Epoch 1/100\n",
      "426/426 [==============================] - 0s 303us/step - loss: 7.4611 - binary_accuracy: 0.4859\n",
      "Epoch 2/100\n",
      "426/426 [==============================] - 0s 118us/step - loss: 2.4364 - binary_accuracy: 0.5962\n",
      "Epoch 3/100\n",
      "426/426 [==============================] - 0s 109us/step - loss: 1.2826 - binary_accuracy: 0.6502\n",
      "Epoch 4/100\n",
      "426/426 [==============================] - 0s 114us/step - loss: 0.6817 - binary_accuracy: 0.7676\n",
      "Epoch 5/100\n",
      "426/426 [==============================] - 0s 113us/step - loss: 0.4763 - binary_accuracy: 0.8380\n",
      "Epoch 6/100\n",
      "426/426 [==============================] - 0s 116us/step - loss: 0.4590 - binary_accuracy: 0.8192\n",
      "Epoch 7/100\n",
      "426/426 [==============================] - 0s 108us/step - loss: 0.3673 - binary_accuracy: 0.8568\n",
      "Epoch 8/100\n",
      "426/426 [==============================] - 0s 109us/step - loss: 0.3345 - binary_accuracy: 0.8732\n",
      "Epoch 9/100\n",
      "426/426 [==============================] - 0s 110us/step - loss: 0.3662 - binary_accuracy: 0.8615\n",
      "Epoch 10/100\n",
      "426/426 [==============================] - 0s 119us/step - loss: 0.3380 - binary_accuracy: 0.8638\n",
      "Epoch 11/100\n",
      "426/426 [==============================] - 0s 118us/step - loss: 0.3775 - binary_accuracy: 0.8592\n",
      "Epoch 12/100\n",
      "426/426 [==============================] - 0s 114us/step - loss: 0.2753 - binary_accuracy: 0.8779\n",
      "Epoch 13/100\n",
      "426/426 [==============================] - 0s 108us/step - loss: 0.2442 - binary_accuracy: 0.9155\n",
      "Epoch 14/100\n",
      "426/426 [==============================] - 0s 116us/step - loss: 0.3275 - binary_accuracy: 0.8826\n",
      "Epoch 15/100\n",
      "426/426 [==============================] - 0s 118us/step - loss: 0.3027 - binary_accuracy: 0.8826\n",
      "Epoch 16/100\n",
      "426/426 [==============================] - 0s 118us/step - loss: 0.3808 - binary_accuracy: 0.8709\n",
      "Epoch 17/100\n",
      "426/426 [==============================] - 0s 113us/step - loss: 0.3090 - binary_accuracy: 0.8850\n",
      "Epoch 18/100\n",
      "426/426 [==============================] - 0s 119us/step - loss: 0.2666 - binary_accuracy: 0.9061\n",
      "Epoch 19/100\n",
      "426/426 [==============================] - 0s 110us/step - loss: 0.6475 - binary_accuracy: 0.8498\n",
      "Epoch 20/100\n",
      "426/426 [==============================] - 0s 120us/step - loss: 0.2384 - binary_accuracy: 0.9249\n",
      "Epoch 21/100\n",
      "426/426 [==============================] - 0s 121us/step - loss: 0.3797 - binary_accuracy: 0.8568\n",
      "Epoch 22/100\n",
      "426/426 [==============================] - 0s 168us/step - loss: 0.4664 - binary_accuracy: 0.8592\n",
      "Epoch 23/100\n",
      "426/426 [==============================] - 0s 120us/step - loss: 0.2711 - binary_accuracy: 0.9038\n",
      "Epoch 24/100\n",
      "426/426 [==============================] - 0s 119us/step - loss: 0.2169 - binary_accuracy: 0.9202\n",
      "Epoch 25/100\n",
      "426/426 [==============================] - 0s 132us/step - loss: 0.2875 - binary_accuracy: 0.9085\n",
      "Epoch 26/100\n",
      "426/426 [==============================] - 0s 197us/step - loss: 0.4140 - binary_accuracy: 0.8850\n",
      "Epoch 27/100\n",
      "426/426 [==============================] - 0s 203us/step - loss: 0.2626 - binary_accuracy: 0.9178\n",
      "Epoch 28/100\n",
      "426/426 [==============================] - 0s 176us/step - loss: 0.2506 - binary_accuracy: 0.9061\n",
      "Epoch 29/100\n",
      "426/426 [==============================] - 0s 123us/step - loss: 0.4973 - binary_accuracy: 0.8592\n",
      "Epoch 30/100\n",
      "426/426 [==============================] - 0s 121us/step - loss: 0.2925 - binary_accuracy: 0.9014\n",
      "Epoch 31/100\n",
      "426/426 [==============================] - 0s 122us/step - loss: 0.2300 - binary_accuracy: 0.9178\n",
      "Epoch 32/100\n",
      "426/426 [==============================] - 0s 212us/step - loss: 0.2034 - binary_accuracy: 0.9178\n",
      "Epoch 33/100\n",
      "426/426 [==============================] - 0s 225us/step - loss: 0.3759 - binary_accuracy: 0.8873\n",
      "Epoch 34/100\n",
      "426/426 [==============================] - 0s 192us/step - loss: 0.2690 - binary_accuracy: 0.9108\n",
      "Epoch 35/100\n",
      "426/426 [==============================] - 0s 205us/step - loss: 0.2399 - binary_accuracy: 0.9061\n",
      "Epoch 36/100\n",
      "426/426 [==============================] - 0s 194us/step - loss: 0.2667 - binary_accuracy: 0.9038\n",
      "Epoch 37/100\n",
      "426/426 [==============================] - 0s 138us/step - loss: 0.2456 - binary_accuracy: 0.9178\n",
      "Epoch 38/100\n",
      "426/426 [==============================] - 0s 263us/step - loss: 0.2141 - binary_accuracy: 0.9225\n",
      "Epoch 39/100\n",
      "426/426 [==============================] - 0s 168us/step - loss: 0.1808 - binary_accuracy: 0.9272\n",
      "Epoch 40/100\n",
      "426/426 [==============================] - 0s 181us/step - loss: 0.2298 - binary_accuracy: 0.9061\n",
      "Epoch 41/100\n",
      "426/426 [==============================] - 0s 196us/step - loss: 0.2755 - binary_accuracy: 0.9155\n",
      "Epoch 42/100\n",
      "426/426 [==============================] - 0s 282us/step - loss: 0.2323 - binary_accuracy: 0.9225\n",
      "Epoch 43/100\n",
      "426/426 [==============================] - 0s 234us/step - loss: 0.2199 - binary_accuracy: 0.9202\n",
      "Epoch 44/100\n",
      "426/426 [==============================] - 0s 200us/step - loss: 0.2022 - binary_accuracy: 0.9319\n",
      "Epoch 45/100\n",
      "426/426 [==============================] - 0s 180us/step - loss: 0.2456 - binary_accuracy: 0.9061\n",
      "Epoch 46/100\n",
      "426/426 [==============================] - 0s 242us/step - loss: 0.2425 - binary_accuracy: 0.9108\n",
      "Epoch 47/100\n",
      "426/426 [==============================] - 0s 252us/step - loss: 0.2291 - binary_accuracy: 0.9014\n",
      "Epoch 48/100\n",
      "426/426 [==============================] - 0s 218us/step - loss: 0.1981 - binary_accuracy: 0.9319\n",
      "Epoch 49/100\n",
      "426/426 [==============================] - 0s 213us/step - loss: 0.3354 - binary_accuracy: 0.8850\n",
      "Epoch 50/100\n",
      "426/426 [==============================] - 0s 205us/step - loss: 0.3693 - binary_accuracy: 0.8873\n",
      "Epoch 51/100\n",
      "426/426 [==============================] - 0s 184us/step - loss: 0.3329 - binary_accuracy: 0.8897\n",
      "Epoch 52/100\n",
      "426/426 [==============================] - 0s 177us/step - loss: 0.2248 - binary_accuracy: 0.9202\n",
      "Epoch 53/100\n",
      "426/426 [==============================] - 0s 176us/step - loss: 0.2286 - binary_accuracy: 0.9155\n",
      "Epoch 54/100\n",
      "426/426 [==============================] - 0s 176us/step - loss: 0.3110 - binary_accuracy: 0.9061\n",
      "Epoch 55/100\n",
      "426/426 [==============================] - 0s 186us/step - loss: 0.2056 - binary_accuracy: 0.9202\n",
      "Epoch 56/100\n",
      "426/426 [==============================] - 0s 203us/step - loss: 0.1965 - binary_accuracy: 0.9225\n",
      "Epoch 57/100\n",
      "426/426 [==============================] - 0s 242us/step - loss: 0.2017 - binary_accuracy: 0.9225\n",
      "Epoch 58/100\n",
      "426/426 [==============================] - 0s 175us/step - loss: 0.1622 - binary_accuracy: 0.9413\n",
      "Epoch 59/100\n",
      "426/426 [==============================] - 0s 182us/step - loss: 0.2473 - binary_accuracy: 0.9061\n",
      "Epoch 60/100\n",
      "426/426 [==============================] - 0s 182us/step - loss: 0.1709 - binary_accuracy: 0.9366\n",
      "Epoch 61/100\n",
      "426/426 [==============================] - 0s 188us/step - loss: 0.2122 - binary_accuracy: 0.9178\n",
      "Epoch 62/100\n",
      "426/426 [==============================] - 0s 156us/step - loss: 0.1689 - binary_accuracy: 0.9390\n",
      "Epoch 63/100\n",
      "426/426 [==============================] - 0s 154us/step - loss: 0.2075 - binary_accuracy: 0.9202\n",
      "Epoch 64/100\n",
      "426/426 [==============================] - 0s 184us/step - loss: 0.2887 - binary_accuracy: 0.9038\n",
      "Epoch 65/100\n",
      "426/426 [==============================] - 0s 190us/step - loss: 0.1619 - binary_accuracy: 0.9366\n",
      "Epoch 66/100\n",
      "426/426 [==============================] - 0s 203us/step - loss: 0.2883 - binary_accuracy: 0.9108\n",
      "Epoch 67/100\n",
      "426/426 [==============================] - 0s 215us/step - loss: 0.1938 - binary_accuracy: 0.9272\n",
      "Epoch 68/100\n",
      "426/426 [==============================] - 0s 204us/step - loss: 0.2530 - binary_accuracy: 0.9131\n",
      "Epoch 69/100\n"
     ]
    },
    {
     "name": "stdout",
     "output_type": "stream",
     "text": [
      "426/426 [==============================] - 0s 176us/step - loss: 0.1810 - binary_accuracy: 0.9296\n",
      "Epoch 70/100\n",
      "426/426 [==============================] - 0s 184us/step - loss: 0.1891 - binary_accuracy: 0.9272\n",
      "Epoch 71/100\n",
      "426/426 [==============================] - 0s 185us/step - loss: 0.1906 - binary_accuracy: 0.9296\n",
      "Epoch 72/100\n",
      "426/426 [==============================] - 0s 193us/step - loss: 0.2141 - binary_accuracy: 0.9366\n",
      "Epoch 73/100\n",
      "426/426 [==============================] - 0s 196us/step - loss: 0.2704 - binary_accuracy: 0.9038\n",
      "Epoch 74/100\n",
      "426/426 [==============================] - 0s 159us/step - loss: 0.5202 - binary_accuracy: 0.8498\n",
      "Epoch 75/100\n",
      "426/426 [==============================] - 0s 167us/step - loss: 0.1589 - binary_accuracy: 0.9366\n",
      "Epoch 76/100\n",
      "426/426 [==============================] - 0s 191us/step - loss: 0.2354 - binary_accuracy: 0.9343\n",
      "Epoch 77/100\n",
      "426/426 [==============================] - 0s 188us/step - loss: 0.2851 - binary_accuracy: 0.8991\n",
      "Epoch 78/100\n",
      "426/426 [==============================] - 0s 164us/step - loss: 0.4624 - binary_accuracy: 0.8756\n",
      "Epoch 79/100\n",
      "426/426 [==============================] - 0s 187us/step - loss: 0.3279 - binary_accuracy: 0.9131\n",
      "Epoch 80/100\n",
      "426/426 [==============================] - 0s 169us/step - loss: 0.2375 - binary_accuracy: 0.9155\n",
      "Epoch 81/100\n",
      "426/426 [==============================] - 0s 175us/step - loss: 0.5638 - binary_accuracy: 0.8568\n",
      "Epoch 82/100\n",
      "426/426 [==============================] - 0s 195us/step - loss: 0.3644 - binary_accuracy: 0.8779\n",
      "Epoch 83/100\n",
      "426/426 [==============================] - 0s 212us/step - loss: 0.1938 - binary_accuracy: 0.9390\n",
      "Epoch 84/100\n",
      "426/426 [==============================] - 0s 228us/step - loss: 0.2017 - binary_accuracy: 0.9249\n",
      "Epoch 85/100\n",
      "426/426 [==============================] - 0s 196us/step - loss: 0.1884 - binary_accuracy: 0.9272\n",
      "Epoch 86/100\n",
      "426/426 [==============================] - 0s 166us/step - loss: 0.1531 - binary_accuracy: 0.9413\n",
      "Epoch 87/100\n",
      "426/426 [==============================] - 0s 177us/step - loss: 0.1579 - binary_accuracy: 0.9390\n",
      "Epoch 88/100\n",
      "426/426 [==============================] - 0s 176us/step - loss: 0.1677 - binary_accuracy: 0.9272\n",
      "Epoch 89/100\n",
      "426/426 [==============================] - 0s 145us/step - loss: 0.2334 - binary_accuracy: 0.9249\n",
      "Epoch 90/100\n",
      "426/426 [==============================] - 0s 164us/step - loss: 0.3039 - binary_accuracy: 0.9061\n",
      "Epoch 91/100\n",
      "426/426 [==============================] - 0s 158us/step - loss: 0.3239 - binary_accuracy: 0.9155\n",
      "Epoch 92/100\n",
      "426/426 [==============================] - 0s 167us/step - loss: 0.1835 - binary_accuracy: 0.9319\n",
      "Epoch 93/100\n",
      "426/426 [==============================] - 0s 152us/step - loss: 0.2339 - binary_accuracy: 0.9249\n",
      "Epoch 94/100\n",
      "426/426 [==============================] - 0s 158us/step - loss: 0.1966 - binary_accuracy: 0.9366\n",
      "Epoch 95/100\n",
      "426/426 [==============================] - 0s 179us/step - loss: 0.2623 - binary_accuracy: 0.9061\n",
      "Epoch 96/100\n",
      "426/426 [==============================] - 0s 160us/step - loss: 0.2061 - binary_accuracy: 0.9343\n",
      "Epoch 97/100\n",
      "426/426 [==============================] - 0s 162us/step - loss: 0.2270 - binary_accuracy: 0.9225\n",
      "Epoch 98/100\n",
      "426/426 [==============================] - 0s 158us/step - loss: 0.1988 - binary_accuracy: 0.9366\n",
      "Epoch 99/100\n",
      "426/426 [==============================] - 0s 191us/step - loss: 0.2005 - binary_accuracy: 0.9390\n",
      "Epoch 100/100\n",
      "426/426 [==============================] - 0s 173us/step - loss: 0.1766 - binary_accuracy: 0.9272\n"
     ]
    },
    {
     "data": {
      "text/plain": [
       "<keras.callbacks.callbacks.History at 0x7f4e589ef208>"
      ]
     },
     "execution_count": 21,
     "metadata": {},
     "output_type": "execute_result"
    }
   ],
   "source": [
    "\n",
    "model = Sequential()\n",
    "\n",
    "model.add(Dense(units=16, \n",
    "                activation='relu', \n",
    "                kernel_initializer='random_uniform',\n",
    "                input_dim=30))\n",
    "\n",
    "model.add(Dense(units=1,\n",
    "                activation='sigmoid'))\n",
    "\n",
    "otimizador = keras.optimizers.Adam(lr=0.001, \n",
    "                                   decay=0.0001,\n",
    "                                   clipvalue=-0.5)\n",
    "\n",
    "model.compile(optimizer=otimizador,\n",
    "              loss='binary_crossentropy',\n",
    "              metrics=['binary_accuracy'])\n",
    "\n",
    "# model.compile(optimizer='adam',\n",
    "#               loss='binary_crossentropy',\n",
    "#               metrics=['binary_accuracy'])\n",
    "\n",
    "model.summary()\n",
    "\n",
    "model.fit(x_train, y_train,\n",
    "          batch_size=10,\n",
    "          epochs=100)"
   ]
  },
  {
   "cell_type": "code",
   "execution_count": 22,
   "metadata": {},
   "outputs": [
    {
     "name": "stdout",
     "output_type": "stream",
     "text": [
      "0.9090909090909091\n",
      "[[51 12]\n",
      " [ 1 79]]\n"
     ]
    }
   ],
   "source": [
    "from sklearn.metrics import confusion_matrix, accuracy_score\n",
    "\n",
    "y_pred = model.predict(x_test)\n",
    "y_pred = (y_pred > 0.5)\n",
    "print(accuracy_score(y_test, y_pred))\n",
    "print(confusion_matrix(y_test, y_pred))"
   ]
  },
  {
   "cell_type": "code",
   "execution_count": 23,
   "metadata": {},
   "outputs": [
    {
     "name": "stdout",
     "output_type": "stream",
     "text": [
      "143/143 [==============================] - 0s 180us/step\n"
     ]
    },
    {
     "data": {
      "text/plain": [
       "[0.5271495433745684, 0.9090909361839294]"
      ]
     },
     "execution_count": 23,
     "metadata": {},
     "output_type": "execute_result"
    }
   ],
   "source": [
    "model.evaluate(x_test, y_test)"
   ]
  },
  {
   "cell_type": "code",
   "execution_count": null,
   "metadata": {},
   "outputs": [],
   "source": []
  }
 ],
 "metadata": {
  "kernelspec": {
   "display_name": "Python 3",
   "language": "python",
   "name": "python3"
  },
  "language_info": {
   "codemirror_mode": {
    "name": "ipython",
    "version": 3
   },
   "file_extension": ".py",
   "mimetype": "text/x-python",
   "name": "python",
   "nbconvert_exporter": "python",
   "pygments_lexer": "ipython3",
   "version": "3.7.3"
  }
 },
 "nbformat": 4,
 "nbformat_minor": 2
}
