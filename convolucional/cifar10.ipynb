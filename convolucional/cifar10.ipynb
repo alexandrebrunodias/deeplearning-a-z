{
 "cells": [
  {
   "cell_type": "code",
   "execution_count": 45,
   "metadata": {},
   "outputs": [],
   "source": [
    "import keras\n",
    "from keras.models import Sequential\n",
    "from keras.layers import Conv2D, MaxPooling2D, Flatten, Dense, Dropout\n",
    "from keras.preprocessing.image import ImageDataGenerator"
   ]
  },
  {
   "cell_type": "code",
   "execution_count": 46,
   "metadata": {},
   "outputs": [],
   "source": [
    "(x_train, y_train), (x_test, y_test) = keras.datasets.cifar10.load_data()"
   ]
  },
  {
   "cell_type": "code",
   "execution_count": 47,
   "metadata": {},
   "outputs": [],
   "source": [
    "x_train = x_train.astype('float32')\n",
    "x_test = x_test.astype('float32')\n",
    "\n",
    "x_train /= 255\n",
    "x_test /= 255\n",
    "\n",
    "y_train = keras.utils.to_categorical(y_train, 10)\n",
    "y_test = keras.utils.to_categorical(y_test, 10)"
   ]
  },
  {
   "cell_type": "code",
   "execution_count": 49,
   "metadata": {},
   "outputs": [],
   "source": [
    "model = Sequential()\n",
    "\n",
    "model.add(Conv2D(32, (3,3), input_shape=x_train.shape[1:], activation='relu'))\n",
    "model.add(MaxPooling2D(pool_size=(2,2)))\n",
    "\n",
    "model.add(Dropout(0.2))\n",
    "\n",
    "model.add(Conv2D(32, (3,3), activation='relu'))\n",
    "model.add(MaxPooling2D(pool_size=(2,2)))\n",
    "\n",
    "model.add(Dropout(0.2))\n",
    "\n",
    "model.add(Flatten())\n",
    "model.add(Dense(units=256, activation='relu'))\n",
    "model.add(Dropout(0.3))\n",
    "model.add(Dense(units=10, activation='softmax'))\n",
    "\n",
    "model.compile(optimizer='adam', loss='categorical_crossentropy', metrics=['accuracy'])"
   ]
  },
  {
   "cell_type": "code",
   "execution_count": 52,
   "metadata": {},
   "outputs": [
    {
     "name": "stdout",
     "output_type": "stream",
     "text": [
      "Epoch 1/20\n",
      "782/782 [==============================] - 47s 60ms/step - loss: 1.0258 - accuracy: 0.6417 - val_loss: 0.8540 - val_accuracy: 0.7032\n",
      "Epoch 2/20\n",
      "782/782 [==============================] - 46s 59ms/step - loss: 1.0114 - accuracy: 0.6470 - val_loss: 0.8555 - val_accuracy: 0.7068\n",
      "Epoch 3/20\n",
      "782/782 [==============================] - 46s 59ms/step - loss: 0.9954 - accuracy: 0.6530 - val_loss: 0.8900 - val_accuracy: 0.6870\n",
      "Epoch 4/20\n",
      "782/782 [==============================] - 47s 60ms/step - loss: 0.9843 - accuracy: 0.6577 - val_loss: 0.8291 - val_accuracy: 0.7163\n",
      "Epoch 5/20\n",
      "782/782 [==============================] - 47s 60ms/step - loss: 0.9713 - accuracy: 0.6593 - val_loss: 0.8464 - val_accuracy: 0.7050\n",
      "Epoch 6/20\n",
      "782/782 [==============================] - 47s 61ms/step - loss: 0.9621 - accuracy: 0.6627 - val_loss: 0.8286 - val_accuracy: 0.7137\n",
      "Epoch 7/20\n",
      "782/782 [==============================] - 47s 60ms/step - loss: 0.9508 - accuracy: 0.6680 - val_loss: 0.8222 - val_accuracy: 0.7153\n",
      "Epoch 8/20\n",
      "782/782 [==============================] - 47s 60ms/step - loss: 0.9444 - accuracy: 0.6708 - val_loss: 0.7763 - val_accuracy: 0.7305\n",
      "Epoch 9/20\n",
      "782/782 [==============================] - 47s 60ms/step - loss: 0.9320 - accuracy: 0.6751 - val_loss: 0.8211 - val_accuracy: 0.7168\n",
      "Epoch 10/20\n",
      "782/782 [==============================] - 47s 60ms/step - loss: 0.9271 - accuracy: 0.6777 - val_loss: 0.8019 - val_accuracy: 0.7224\n",
      "Epoch 11/20\n",
      "782/782 [==============================] - 47s 60ms/step - loss: 0.9240 - accuracy: 0.6757 - val_loss: 0.8235 - val_accuracy: 0.7141\n",
      "Epoch 12/20\n",
      "782/782 [==============================] - 47s 61ms/step - loss: 0.9106 - accuracy: 0.6789 - val_loss: 0.7902 - val_accuracy: 0.7271\n",
      "Epoch 13/20\n",
      "782/782 [==============================] - 47s 61ms/step - loss: 0.9113 - accuracy: 0.6832 - val_loss: 0.7751 - val_accuracy: 0.7291\n",
      "Epoch 14/20\n",
      "782/782 [==============================] - 48s 61ms/step - loss: 0.9051 - accuracy: 0.6843 - val_loss: 0.7889 - val_accuracy: 0.7268\n",
      "Epoch 15/20\n",
      "782/782 [==============================] - 47s 61ms/step - loss: 0.8950 - accuracy: 0.6853 - val_loss: 0.7621 - val_accuracy: 0.7362\n",
      "Epoch 16/20\n",
      "782/782 [==============================] - 47s 60ms/step - loss: 0.8956 - accuracy: 0.6843 - val_loss: 0.7768 - val_accuracy: 0.7308\n",
      "Epoch 17/20\n",
      "782/782 [==============================] - 47s 60ms/step - loss: 0.8914 - accuracy: 0.6866 - val_loss: 0.7630 - val_accuracy: 0.7356\n",
      "Epoch 18/20\n",
      "782/782 [==============================] - 47s 60ms/step - loss: 0.8828 - accuracy: 0.6917 - val_loss: 0.7830 - val_accuracy: 0.7286\n",
      "Epoch 19/20\n",
      "782/782 [==============================] - 48s 61ms/step - loss: 0.8783 - accuracy: 0.6960 - val_loss: 0.8033 - val_accuracy: 0.7240\n",
      "Epoch 20/20\n",
      "782/782 [==============================] - 47s 61ms/step - loss: 0.8730 - accuracy: 0.6939 - val_loss: 0.7390 - val_accuracy: 0.7437\n"
     ]
    },
    {
     "data": {
      "text/plain": [
       "<keras.callbacks.callbacks.History at 0x7fe59ceceed0>"
      ]
     },
     "execution_count": 52,
     "metadata": {},
     "output_type": "execute_result"
    }
   ],
   "source": [
    "gen = ImageDataGenerator(rotation_range=7, horizontal_flip=True, shear_range=0.2, height_shift_range=0.07, zoom_range=0.2)\n",
    "gen.fit(x_train)\n",
    "model.fit_generator(gen.flow(x_train, y_train, batch_size=64), epochs=20, validation_data=(x_test, y_test), shuffle=True, workers=4, verbose=1)"
   ]
  },
  {
   "cell_type": "code",
   "execution_count": null,
   "metadata": {},
   "outputs": [],
   "source": []
  }
 ],
 "metadata": {
  "kernelspec": {
   "display_name": "Python 3",
   "language": "python",
   "name": "python3"
  },
  "language_info": {
   "codemirror_mode": {
    "name": "ipython",
    "version": 3
   },
   "file_extension": ".py",
   "mimetype": "text/x-python",
   "name": "python",
   "nbconvert_exporter": "python",
   "pygments_lexer": "ipython3",
   "version": "3.7.5rc1"
  }
 },
 "nbformat": 4,
 "nbformat_minor": 4
}
