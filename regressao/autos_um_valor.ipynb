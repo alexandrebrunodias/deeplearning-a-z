{
 "cells": [
  {
   "cell_type": "code",
   "execution_count": 1,
   "metadata": {},
   "outputs": [],
   "source": [
    "import pandas as pd\n",
    "import numpy as np"
   ]
  },
  {
   "cell_type": "code",
   "execution_count": 2,
   "metadata": {},
   "outputs": [],
   "source": [
    "df = pd.read_csv('autos.csv', encoding = 'ISO-8859-1')"
   ]
  },
  {
   "cell_type": "code",
   "execution_count": 3,
   "metadata": {},
   "outputs": [],
   "source": [
    "# IRRELEVANTES\n",
    "\n",
    "df = df.drop('dateCrawled', axis=1)\n",
    "df = df.drop('dateCreated', axis=1)\n",
    "df = df.drop('nrOfPictures', axis=1)\n",
    "df = df.drop('postalCode', axis=1)\n",
    "df = df.drop('lastSeen', axis=1)"
   ]
  },
  {
   "cell_type": "code",
   "execution_count": 4,
   "metadata": {},
   "outputs": [],
   "source": [
    "# DESBALANCEADOS \n",
    "\n",
    "df['name'].value_counts()\n",
    "df = df.drop('name', axis=1)\n",
    "\n",
    "df['seller'].value_counts()\n",
    "df = df.drop('seller', axis=1)\n",
    "\n",
    "df['offerType'].value_counts()\n",
    "df = df.drop('offerType', axis=1)"
   ]
  },
  {
   "cell_type": "code",
   "execution_count": 5,
   "metadata": {},
   "outputs": [],
   "source": [
    "# INCONSISTENTES\n",
    "\n",
    "i1 = df.loc[df.price <= 10]\n",
    "df = df[df.price > 10]\n",
    "\n",
    "i2 = df.loc[df.price > 350000]\n",
    "df = df[df.price <= 350000]"
   ]
  },
  {
   "cell_type": "code",
   "execution_count": 6,
   "metadata": {},
   "outputs": [],
   "source": [
    "# DELETETANDO ALGUNS NULOS\n",
    "\n",
    "df = df.loc[~pd.isnull(df['vehicleType'])]\n",
    "df = df.loc[~pd.isnull(df['model'])]"
   ]
  },
  {
   "cell_type": "code",
   "execution_count": 7,
   "metadata": {},
   "outputs": [],
   "source": [
    "# PREENCHENDO ALGUNS NULO\n",
    "\n",
    "df.loc[pd.isnull(df['fuelType'])]\n",
    "df['fuelType'].value_counts\n",
    "\n",
    "df.loc[pd.isnull(df['gearbox'])]\n",
    "df['gearbox'].value_counts\n",
    "\n",
    "df.loc[pd.isnull(df['notRepairedDamage'])]\n",
    "df['notRepairedDamage'].value_counts\n",
    "\n",
    "valores = {\"fuelType\": \"benzin\", \"gearbox\": \"manuell\", \"notRepairedDamage\": \"nein\"}\n",
    "df = df.fillna(valores)"
   ]
  },
  {
   "cell_type": "code",
   "execution_count": 8,
   "metadata": {},
   "outputs": [],
   "source": [
    "X = df.iloc[:, 1:].values\n",
    "y = df['price'].values"
   ]
  },
  {
   "cell_type": "code",
   "execution_count": 9,
   "metadata": {},
   "outputs": [
    {
     "data": {
      "text/plain": [
       "2    163\n",
       "3     75\n",
       "4     69\n",
       "5    102\n",
       "6    109\n",
       "Name: powerPS, dtype: int64"
      ]
     },
     "execution_count": 9,
     "metadata": {},
     "output_type": "execute_result"
    }
   ],
   "source": [
    "df.iloc[:,5].head()"
   ]
  },
  {
   "cell_type": "code",
   "execution_count": 10,
   "metadata": {},
   "outputs": [
    {
     "data": {
      "text/plain": [
       "[(0, 'abtest'),\n",
       " (1, 'vehicleType'),\n",
       " (2, 'yearOfRegistration'),\n",
       " (3, 'gearbox'),\n",
       " (4, 'powerPS'),\n",
       " (5, 'model'),\n",
       " (6, 'kilometer'),\n",
       " (7, 'monthOfRegistration'),\n",
       " (8, 'fuelType'),\n",
       " (9, 'brand'),\n",
       " (10, 'notRepairedDamage')]"
      ]
     },
     "execution_count": 10,
     "metadata": {},
     "output_type": "execute_result"
    }
   ],
   "source": [
    "list(enumerate(df.iloc[:, 1:]))"
   ]
  },
  {
   "cell_type": "code",
   "execution_count": 11,
   "metadata": {},
   "outputs": [
    {
     "name": "stderr",
     "output_type": "stream",
     "text": [
      "/home/local/CONDUCTOR/alexandre.dias/alex/estudos/deeplearning-a-z/myvenv/lib/python3.7/site-packages/sklearn/preprocessing/_encoders.py:415: FutureWarning: The handling of integer data will change in version 0.22. Currently, the categories are determined based on the range [0, max(values)], while in the future they will be determined based on the unique values.\n",
      "If you want the future behaviour and silence this warning, you can specify \"categories='auto'\".\n",
      "In case you used a LabelEncoder before this OneHotEncoder to convert the categories to integers, then you can now use the OneHotEncoder directly.\n",
      "  warnings.warn(msg, FutureWarning)\n",
      "/home/local/CONDUCTOR/alexandre.dias/alex/estudos/deeplearning-a-z/myvenv/lib/python3.7/site-packages/sklearn/preprocessing/_encoders.py:451: DeprecationWarning: The 'categorical_features' keyword is deprecated in version 0.20 and will be removed in 0.22. You can use the ColumnTransformer instead.\n",
      "  \"use the ColumnTransformer instead.\", DeprecationWarning)\n"
     ]
    }
   ],
   "source": [
    "from sklearn.preprocessing import LabelEncoder, OneHotEncoder\n",
    "labelEncoder = LabelEncoder()\n",
    "\n",
    "X[:, 0] = labelEncoder.fit_transform(X[:, 0])\n",
    "X[:, 1] = labelEncoder.fit_transform(X[:, 1])\n",
    "X[:, 3] = labelEncoder.fit_transform(X[:, 3])\n",
    "X[:, 5] = labelEncoder.fit_transform(X[:, 5])\n",
    "X[:, 8] = labelEncoder.fit_transform(X[:, 8])\n",
    "X[:, 9] = labelEncoder.fit_transform(X[:, 9])\n",
    "X[:, 10] = labelEncoder.fit_transform(X[:, 10])\n",
    "\n",
    "ohe = OneHotEncoder(categorical_features=[0, 1, 3, 5, 8, 9, 10])\n",
    "\n",
    "X = ohe.fit_transform(X).toarray()"
   ]
  },
  {
   "cell_type": "code",
   "execution_count": 12,
   "metadata": {},
   "outputs": [
    {
     "name": "stderr",
     "output_type": "stream",
     "text": [
      "Using TensorFlow backend.\n"
     ]
    }
   ],
   "source": [
    "from keras.models import Sequential\n",
    "from keras.layers import Dense, Dropout\n",
    "\n",
    "def criar_rede():\n",
    "    model = Sequential()\n",
    "    \n",
    "    model.add(Dense(units=158, activation='relu', input_dim=315))\n",
    "    model.add(Dense(units=158, activation='relu'))\n",
    "    model.add(Dense(units=1, activation='linear'))\n",
    "    \n",
    "    model.compile(optimizer='adam', loss='mse')\n",
    "    \n",
    "    return model"
   ]
  },
  {
   "cell_type": "code",
   "execution_count": 13,
   "metadata": {
    "scrolled": true
   },
   "outputs": [
    {
     "name": "stdout",
     "output_type": "stream",
     "text": [
      "Epoch 1/100\n",
      "313256/313256 [==============================] - 3s 11us/step - loss: 102621877.2276\n",
      "Epoch 2/100\n",
      "313256/313256 [==============================] - 3s 8us/step - loss: 82627321.7282\n",
      "Epoch 3/100\n",
      "313256/313256 [==============================] - 3s 9us/step - loss: 66985821.8926\n",
      "Epoch 4/100\n",
      "313256/313256 [==============================] - 3s 9us/step - loss: 60423601.8666\n",
      "Epoch 5/100\n",
      "313256/313256 [==============================] - 3s 9us/step - loss: 59436144.0382\n",
      "Epoch 6/100\n",
      "313256/313256 [==============================] - 3s 9us/step - loss: 58334413.9281\n",
      "Epoch 7/100\n",
      "313256/313256 [==============================] - 2s 8us/step - loss: 56704994.1702\n",
      "Epoch 8/100\n",
      "313256/313256 [==============================] - 2s 7us/step - loss: 54819982.5535\n",
      "Epoch 9/100\n",
      "313256/313256 [==============================] - 2s 7us/step - loss: 53073294.5562\n",
      "Epoch 10/100\n",
      "313256/313256 [==============================] - 2s 7us/step - loss: 51122584.7511\n",
      "Epoch 11/100\n",
      "313256/313256 [==============================] - 2s 7us/step - loss: 49292409.7079\n",
      "Epoch 12/100\n",
      "313256/313256 [==============================] - 2s 7us/step - loss: 47569603.4988\n",
      "Epoch 13/100\n",
      "313256/313256 [==============================] - 2s 7us/step - loss: 45727881.4243\n",
      "Epoch 14/100\n",
      "313256/313256 [==============================] - 2s 7us/step - loss: 46301592.3558\n",
      "Epoch 15/100\n",
      "313256/313256 [==============================] - 2s 7us/step - loss: 45952654.7154\n",
      "Epoch 16/100\n",
      "313256/313256 [==============================] - 2s 7us/step - loss: 43023658.8853\n",
      "Epoch 17/100\n",
      "313256/313256 [==============================] - 2s 7us/step - loss: 42700751.5780\n",
      "Epoch 18/100\n",
      "313256/313256 [==============================] - 2s 7us/step - loss: 42518602.9971\n",
      "Epoch 19/100\n",
      "313256/313256 [==============================] - 2s 7us/step - loss: 41144037.5308\n",
      "Epoch 20/100\n",
      "313256/313256 [==============================] - 2s 7us/step - loss: 42727748.0404\n",
      "Epoch 21/100\n",
      "313256/313256 [==============================] - 2s 7us/step - loss: 40868754.4436\n",
      "Epoch 22/100\n",
      "313256/313256 [==============================] - 2s 7us/step - loss: 41222039.5742\n",
      "Epoch 23/100\n",
      "313256/313256 [==============================] - 2s 7us/step - loss: 40337152.3488\n",
      "Epoch 24/100\n",
      "313256/313256 [==============================] - 2s 7us/step - loss: 38993279.0336\n",
      "Epoch 25/100\n",
      "313256/313256 [==============================] - 2s 6us/step - loss: 38216816.3212\n",
      "Epoch 26/100\n",
      "313256/313256 [==============================] - 2s 7us/step - loss: 38269446.3679\n",
      "Epoch 27/100\n",
      "313256/313256 [==============================] - 3s 9us/step - loss: 37972196.3505\n",
      "Epoch 28/100\n",
      "313256/313256 [==============================] - 3s 9us/step - loss: 37682594.3973\n",
      "Epoch 29/100\n",
      "313256/313256 [==============================] - 3s 8us/step - loss: 37667077.7836\n",
      "Epoch 30/100\n",
      "313256/313256 [==============================] - 2s 8us/step - loss: 36808672.1196\n",
      "Epoch 31/100\n",
      "313256/313256 [==============================] - 3s 8us/step - loss: 39711291.3529\n",
      "Epoch 32/100\n",
      "313256/313256 [==============================] - 2s 8us/step - loss: 37349618.0457\n",
      "Epoch 33/100\n",
      "313256/313256 [==============================] - 3s 8us/step - loss: 36517259.7305\n",
      "Epoch 34/100\n",
      "313256/313256 [==============================] - 2s 8us/step - loss: 36804586.4564\n",
      "Epoch 35/100\n",
      "313256/313256 [==============================] - 2s 8us/step - loss: 38133588.9963\n",
      "Epoch 36/100\n",
      "313256/313256 [==============================] - 3s 8us/step - loss: 36394455.3092\n",
      "Epoch 37/100\n",
      "313256/313256 [==============================] - 3s 8us/step - loss: 36086194.5724\n",
      "Epoch 38/100\n",
      "313256/313256 [==============================] - 3s 9us/step - loss: 36099716.8445\n",
      "Epoch 39/100\n",
      "313256/313256 [==============================] - 3s 8us/step - loss: 36103245.5912\n",
      "Epoch 40/100\n",
      "313256/313256 [==============================] - 3s 9us/step - loss: 35466544.9431\n",
      "Epoch 41/100\n",
      "313256/313256 [==============================] - 3s 9us/step - loss: 36032088.9845\n",
      "Epoch 42/100\n",
      "313256/313256 [==============================] - 3s 9us/step - loss: 35389715.9198\n",
      "Epoch 43/100\n",
      "313256/313256 [==============================] - 3s 8us/step - loss: 35914866.0279\n",
      "Epoch 44/100\n",
      "313256/313256 [==============================] - 2s 7us/step - loss: 35684733.5109\n",
      "Epoch 45/100\n",
      "313256/313256 [==============================] - 3s 8us/step - loss: 35201617.5884\n",
      "Epoch 46/100\n",
      "313256/313256 [==============================] - 2s 7us/step - loss: 34872836.2595\n",
      "Epoch 47/100\n",
      "313256/313256 [==============================] - 2s 7us/step - loss: 34691614.8619\n",
      "Epoch 48/100\n",
      "313256/313256 [==============================] - 2s 6us/step - loss: 35334678.2873\n",
      "Epoch 49/100\n",
      "313256/313256 [==============================] - 2s 6us/step - loss: 34740197.0637\n",
      "Epoch 50/100\n",
      "313256/313256 [==============================] - 2s 6us/step - loss: 35135447.5832\n",
      "Epoch 51/100\n",
      "313256/313256 [==============================] - 2s 6us/step - loss: 35102075.4027\n",
      "Epoch 52/100\n",
      "313256/313256 [==============================] - 2s 6us/step - loss: 35039542.3967\n",
      "Epoch 53/100\n",
      "313256/313256 [==============================] - 2s 6us/step - loss: 34223064.2836\n",
      "Epoch 54/100\n",
      "313256/313256 [==============================] - 2s 6us/step - loss: 33988635.8189\n",
      "Epoch 55/100\n",
      "313256/313256 [==============================] - 3s 8us/step - loss: 34017528.8386\n",
      "Epoch 56/100\n",
      "313256/313256 [==============================] - 3s 11us/step - loss: 34062262.2990\n",
      "Epoch 57/100\n",
      "313256/313256 [==============================] - 3s 10us/step - loss: 34453660.9763\n",
      "Epoch 58/100\n",
      "313256/313256 [==============================] - 3s 9us/step - loss: 33946342.8403\n",
      "Epoch 59/100\n",
      "313256/313256 [==============================] - 2s 8us/step - loss: 34195613.1606\n",
      "Epoch 60/100\n",
      "313256/313256 [==============================] - 2s 8us/step - loss: 34430565.9351\n",
      "Epoch 61/100\n",
      "313256/313256 [==============================] - 2s 8us/step - loss: 35457604.4266\n",
      "Epoch 62/100\n",
      "313256/313256 [==============================] - 3s 8us/step - loss: 33531596.4372\n",
      "Epoch 63/100\n",
      "313256/313256 [==============================] - 3s 9us/step - loss: 34732324.3805\n",
      "Epoch 64/100\n",
      "313256/313256 [==============================] - 3s 8us/step - loss: 33569648.7921\n",
      "Epoch 65/100\n",
      "313256/313256 [==============================] - 2s 8us/step - loss: 33536529.9179\n",
      "Epoch 66/100\n",
      "313256/313256 [==============================] - 2s 8us/step - loss: 33044449.1455\n",
      "Epoch 67/100\n",
      "313256/313256 [==============================] - 2s 8us/step - loss: 33261516.7732\n",
      "Epoch 68/100\n",
      "313256/313256 [==============================] - 3s 8us/step - loss: 33093963.5590\n",
      "Epoch 69/100\n",
      "313256/313256 [==============================] - 2s 8us/step - loss: 35488325.7762\n",
      "Epoch 70/100\n",
      "313256/313256 [==============================] - 3s 8us/step - loss: 33811316.7072\n",
      "Epoch 71/100\n",
      "313256/313256 [==============================] - 3s 8us/step - loss: 32867459.3753\n",
      "Epoch 72/100\n",
      "313256/313256 [==============================] - 3s 8us/step - loss: 32829069.8757\n",
      "Epoch 73/100\n",
      "313256/313256 [==============================] - 3s 8us/step - loss: 33678635.8118\n",
      "Epoch 74/100\n",
      "313256/313256 [==============================] - 2s 7us/step - loss: 33325536.5468\n",
      "Epoch 75/100\n",
      "313256/313256 [==============================] - 2s 8us/step - loss: 32766863.1899\n",
      "Epoch 76/100\n",
      "313256/313256 [==============================] - 2s 8us/step - loss: 32719745.6045\n",
      "Epoch 77/100\n",
      "313256/313256 [==============================] - 2s 8us/step - loss: 33252477.4673\n",
      "Epoch 78/100\n",
      "313256/313256 [==============================] - 3s 8us/step - loss: 32528305.6061\n",
      "Epoch 79/100\n",
      "313256/313256 [==============================] - 3s 8us/step - loss: 32560191.1047\n",
      "Epoch 80/100\n",
      "313256/313256 [==============================] - 3s 8us/step - loss: 32378790.5938\n",
      "Epoch 81/100\n",
      "313256/313256 [==============================] - 2s 8us/step - loss: 32691539.3605\n",
      "Epoch 82/100\n",
      "313256/313256 [==============================] - 2s 8us/step - loss: 32388705.9774\n",
      "Epoch 83/100\n",
      "313256/313256 [==============================] - 3s 8us/step - loss: 32724691.1291\n",
      "Epoch 84/100\n",
      "313256/313256 [==============================] - 2s 8us/step - loss: 32717449.3096\n",
      "Epoch 85/100\n",
      "313256/313256 [==============================] - 3s 8us/step - loss: 32174814.8895\n",
      "Epoch 86/100\n"
     ]
    },
    {
     "name": "stdout",
     "output_type": "stream",
     "text": [
      "313256/313256 [==============================] - 2s 8us/step - loss: 32267863.6042\n",
      "Epoch 87/100\n",
      "313256/313256 [==============================] - 2s 8us/step - loss: 32506992.1526\n",
      "Epoch 88/100\n",
      "313256/313256 [==============================] - 2s 8us/step - loss: 33077315.1014\n",
      "Epoch 89/100\n",
      "313256/313256 [==============================] - 2s 8us/step - loss: 32215274.4685\n",
      "Epoch 90/100\n",
      "313256/313256 [==============================] - 3s 8us/step - loss: 32814325.4927\n",
      "Epoch 91/100\n",
      "313256/313256 [==============================] - 2s 8us/step - loss: 32508294.3846\n",
      "Epoch 92/100\n",
      "313256/313256 [==============================] - 3s 8us/step - loss: 31552140.9279\n",
      "Epoch 93/100\n",
      "313256/313256 [==============================] - 3s 9us/step - loss: 31636548.0565\n",
      "Epoch 94/100\n",
      "313256/313256 [==============================] - 2s 7us/step - loss: 46750551.0269\n",
      "Epoch 95/100\n",
      "313256/313256 [==============================] - 2s 8us/step - loss: 36523696.3397\n",
      "Epoch 96/100\n",
      "313256/313256 [==============================] - 2s 8us/step - loss: 32972599.6531\n",
      "Epoch 97/100\n",
      "313256/313256 [==============================] - 3s 8us/step - loss: 32107019.9921\n",
      "Epoch 98/100\n",
      "313256/313256 [==============================] - 2s 8us/step - loss: 32054826.2596\n",
      "Epoch 99/100\n",
      "313256/313256 [==============================] - 3s 9us/step - loss: 31672566.3161\n",
      "Epoch 100/100\n",
      "313256/313256 [==============================] - 3s 8us/step - loss: 31521594.5091\n"
     ]
    },
    {
     "ename": "NameError",
     "evalue": "name 'r2_score' is not defined",
     "output_type": "error",
     "traceback": [
      "\u001b[0;31m---------------------------------------------------------------------------\u001b[0m",
      "\u001b[0;31mNameError\u001b[0m                                 Traceback (most recent call last)",
      "\u001b[0;32m<ipython-input-13-8a427353bbc6>\u001b[0m in \u001b[0;36m<module>\u001b[0;34m\u001b[0m\n\u001b[1;32m      1\u001b[0m \u001b[0mcriar_rede\u001b[0m\u001b[0;34m(\u001b[0m\u001b[0;34m)\u001b[0m\u001b[0;34m.\u001b[0m\u001b[0mfit\u001b[0m\u001b[0;34m(\u001b[0m\u001b[0mX\u001b[0m\u001b[0;34m,\u001b[0m \u001b[0my\u001b[0m\u001b[0;34m,\u001b[0m \u001b[0mbatch_size\u001b[0m\u001b[0;34m=\u001b[0m\u001b[0;36m5000\u001b[0m\u001b[0;34m,\u001b[0m \u001b[0mepochs\u001b[0m\u001b[0;34m=\u001b[0m\u001b[0;36m100\u001b[0m\u001b[0;34m)\u001b[0m\u001b[0;34m\u001b[0m\u001b[0;34m\u001b[0m\u001b[0m\n\u001b[0;32m----> 2\u001b[0;31m \u001b[0mprint\u001b[0m\u001b[0;34m(\u001b[0m\u001b[0mr2_score\u001b[0m\u001b[0;34m(\u001b[0m\u001b[0my\u001b[0m\u001b[0;34m,\u001b[0m \u001b[0mmodel\u001b[0m\u001b[0;34m.\u001b[0m\u001b[0mpredict\u001b[0m\u001b[0;34m(\u001b[0m\u001b[0mX\u001b[0m\u001b[0;34m)\u001b[0m\u001b[0;34m)\u001b[0m\u001b[0;34m)\u001b[0m\u001b[0;34m\u001b[0m\u001b[0;34m\u001b[0m\u001b[0m\n\u001b[0m",
      "\u001b[0;31mNameError\u001b[0m: name 'r2_score' is not defined"
     ]
    }
   ],
   "source": [
    "criar_rede().fit(X, y, batch_size=5000, epochs=100)\n",
    "print(r2_score(y, model.predict(X)))"
   ]
  },
  {
   "cell_type": "code",
   "execution_count": null,
   "metadata": {},
   "outputs": [],
   "source": []
  }
 ],
 "metadata": {
  "kernelspec": {
   "display_name": "Python 3",
   "language": "python",
   "name": "python3"
  },
  "language_info": {
   "codemirror_mode": {
    "name": "ipython",
    "version": 3
   },
   "file_extension": ".py",
   "mimetype": "text/x-python",
   "name": "python",
   "nbconvert_exporter": "python",
   "pygments_lexer": "ipython3",
   "version": "3.7.3"
  },
  "varInspector": {
   "cols": {
    "lenName": 16,
    "lenType": 16,
    "lenVar": 40
   },
   "kernels_config": {
    "python": {
     "delete_cmd_postfix": "",
     "delete_cmd_prefix": "del ",
     "library": "var_list.py",
     "varRefreshCmd": "print(var_dic_list())"
    },
    "r": {
     "delete_cmd_postfix": ") ",
     "delete_cmd_prefix": "rm(",
     "library": "var_list.r",
     "varRefreshCmd": "cat(var_dic_list()) "
    }
   },
   "types_to_exclude": [
    "module",
    "function",
    "builtin_function_or_method",
    "instance",
    "_Feature"
   ],
   "window_display": false
  }
 },
 "nbformat": 4,
 "nbformat_minor": 2
}
