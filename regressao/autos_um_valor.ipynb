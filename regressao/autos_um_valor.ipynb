{
 "cells": [
  {
   "cell_type": "code",
   "execution_count": 1,
   "metadata": {},
   "outputs": [],
   "source": [
    "import pandas as pd\n",
    "import numpy as np"
   ]
  },
  {
   "cell_type": "code",
   "execution_count": 2,
   "metadata": {},
   "outputs": [],
   "source": [
    "df = pd.read_csv('autos.csv', encoding = 'ISO-8859-1')"
   ]
  },
  {
   "cell_type": "code",
   "execution_count": 3,
   "metadata": {},
   "outputs": [],
   "source": [
    "# IRRELEVANTES\n",
    "\n",
    "df = df.drop('dateCrawled', axis=1)\n",
    "df = df.drop('dateCreated', axis=1)\n",
    "df = df.drop('nrOfPictures', axis=1)\n",
    "df = df.drop('postalCode', axis=1)\n",
    "df = df.drop('lastSeen', axis=1)"
   ]
  },
  {
   "cell_type": "code",
   "execution_count": 4,
   "metadata": {},
   "outputs": [],
   "source": [
    "# DESBALANCEADOS \n",
    "\n",
    "df['name'].value_counts()\n",
    "df = df.drop('name', axis=1)\n",
    "\n",
    "df['seller'].value_counts()\n",
    "df = df.drop('seller', axis=1)\n",
    "\n",
    "df['offerType'].value_counts()\n",
    "df = df.drop('offerType', axis=1)"
   ]
  },
  {
   "cell_type": "code",
   "execution_count": 5,
   "metadata": {},
   "outputs": [],
   "source": [
    "# INCONSISTENTES\n",
    "\n",
    "i1 = df.loc[df.price <= 10]\n",
    "df = df[df.price > 10]\n",
    "\n",
    "i2 = df.loc[df.price > 350000]\n",
    "df = df[df.price <= 350000]"
   ]
  },
  {
   "cell_type": "code",
   "execution_count": 6,
   "metadata": {},
   "outputs": [],
   "source": [
    "# DELETETANDO ALGUNS NULOS\n",
    "\n",
    "df = df.loc[~pd.isnull(df['vehicleType'])]\n",
    "df = df.loc[~pd.isnull(df['model'])]"
   ]
  },
  {
   "cell_type": "code",
   "execution_count": 7,
   "metadata": {},
   "outputs": [],
   "source": [
    "# PREENCHENDO ALGUNS NULO\n",
    "\n",
    "df.loc[pd.isnull(df['fuelType'])]\n",
    "df['fuelType'].value_counts\n",
    "\n",
    "df.loc[pd.isnull(df['gearbox'])]\n",
    "df['gearbox'].value_counts\n",
    "\n",
    "df.loc[pd.isnull(df['notRepairedDamage'])]\n",
    "df['notRepairedDamage'].value_counts\n",
    "\n",
    "valores = {\"fuelType\": \"benzin\", \"gearbox\": \"manuell\", \"notRepairedDamage\": \"nein\"}\n",
    "df = df.fillna(valores)"
   ]
  },
  {
   "cell_type": "code",
   "execution_count": 8,
   "metadata": {},
   "outputs": [],
   "source": [
    "X = df.iloc[:, 1:].values\n",
    "y = df['price'].values"
   ]
  },
  {
   "cell_type": "code",
   "execution_count": 9,
   "metadata": {},
   "outputs": [
    {
     "data": {
      "text/plain": [
       "2    163\n",
       "3     75\n",
       "4     69\n",
       "5    102\n",
       "6    109\n",
       "Name: powerPS, dtype: int64"
      ]
     },
     "execution_count": 9,
     "metadata": {},
     "output_type": "execute_result"
    }
   ],
   "source": [
    "df.iloc[:,5].head()"
   ]
  },
  {
   "cell_type": "code",
   "execution_count": 10,
   "metadata": {},
   "outputs": [
    {
     "data": {
      "text/plain": [
       "[(0, 'abtest'),\n",
       " (1, 'vehicleType'),\n",
       " (2, 'yearOfRegistration'),\n",
       " (3, 'gearbox'),\n",
       " (4, 'powerPS'),\n",
       " (5, 'model'),\n",
       " (6, 'kilometer'),\n",
       " (7, 'monthOfRegistration'),\n",
       " (8, 'fuelType'),\n",
       " (9, 'brand'),\n",
       " (10, 'notRepairedDamage')]"
      ]
     },
     "execution_count": 10,
     "metadata": {},
     "output_type": "execute_result"
    }
   ],
   "source": [
    "list(enumerate(df.iloc[:, 1:]))"
   ]
  },
  {
   "cell_type": "code",
   "execution_count": 11,
   "metadata": {},
   "outputs": [
    {
     "name": "stderr",
     "output_type": "stream",
     "text": [
      "/home/local/CONDUCTOR/alexandre.dias/alex/estudos/deeplearning-a-z/myvenv/lib/python3.7/site-packages/sklearn/preprocessing/_encoders.py:415: FutureWarning: The handling of integer data will change in version 0.22. Currently, the categories are determined based on the range [0, max(values)], while in the future they will be determined based on the unique values.\n",
      "If you want the future behaviour and silence this warning, you can specify \"categories='auto'\".\n",
      "In case you used a LabelEncoder before this OneHotEncoder to convert the categories to integers, then you can now use the OneHotEncoder directly.\n",
      "  warnings.warn(msg, FutureWarning)\n",
      "/home/local/CONDUCTOR/alexandre.dias/alex/estudos/deeplearning-a-z/myvenv/lib/python3.7/site-packages/sklearn/preprocessing/_encoders.py:451: DeprecationWarning: The 'categorical_features' keyword is deprecated in version 0.20 and will be removed in 0.22. You can use the ColumnTransformer instead.\n",
      "  \"use the ColumnTransformer instead.\", DeprecationWarning)\n"
     ]
    }
   ],
   "source": [
    "from sklearn.preprocessing import LabelEncoder, OneHotEncoder\n",
    "labelEncoder = LabelEncoder()\n",
    "\n",
    "X[:, 0] = labelEncoder.fit_transform(X[:, 0])\n",
    "X[:, 1] = labelEncoder.fit_transform(X[:, 1])\n",
    "X[:, 3] = labelEncoder.fit_transform(X[:, 3])\n",
    "X[:, 5] = labelEncoder.fit_transform(X[:, 5])\n",
    "X[:, 8] = labelEncoder.fit_transform(X[:, 8])\n",
    "X[:, 9] = labelEncoder.fit_transform(X[:, 9])\n",
    "X[:, 10] = labelEncoder.fit_transform(X[:, 10])\n",
    "\n",
    "ohe = OneHotEncoder(categorical_features=[0, 1, 3, 5, 8, 9, 10])\n",
    "\n",
    "X = ohe.fit_transform(X).toarray()"
   ]
  },
  {
   "cell_type": "code",
   "execution_count": 12,
   "metadata": {},
   "outputs": [
    {
     "name": "stderr",
     "output_type": "stream",
     "text": [
      "Using TensorFlow backend.\n"
     ]
    }
   ],
   "source": [
    "from keras.models import Sequential\n",
    "from keras.layers import Dense, Dropout\n",
    "\n",
    "def criar_rede():\n",
    "    model = Sequential()\n",
    "    \n",
    "    model.add(Dense(units=158, activation='relu', input_dim=315))\n",
    "    model.add(Dense(units=158, activation='relu'))\n",
    "    model.add(Dense(units=1, activation='linear'))\n",
    "    \n",
    "    model.compile(optimizer='adam', loss='mse')\n",
    "    \n",
    "    return model"
   ]
  },
  {
   "cell_type": "code",
   "execution_count": null,
   "metadata": {
    "scrolled": true
   },
   "outputs": [
    {
     "name": "stderr",
     "output_type": "stream",
     "text": [
      "/home/local/CONDUCTOR/alexandre.dias/alex/estudos/deeplearning-a-z/myvenv/lib/python3.7/site-packages/sklearn/svm/base.py:193: FutureWarning: The default value of gamma will change from 'auto' to 'scale' in version 0.22 to account better for unscaled features. Set gamma explicitly to 'auto' or 'scale' to avoid this warning.\n",
      "  \"avoid this warning.\", FutureWarning)\n"
     ]
    }
   ],
   "source": [
    "# criar_rede().fit(X, y, batch_size=5000, epochs=100)\n",
    "from sklearn.svm import SVC \n",
    "from sklearn.metrics import r2_score\n",
    "model = SVC()\n",
    "model.fit(X,y)\n",
    "print(r2_score(y, model.predict(X)))"
   ]
  },
  {
   "cell_type": "code",
   "execution_count": null,
   "metadata": {},
   "outputs": [],
   "source": []
  }
 ],
 "metadata": {
  "kernelspec": {
   "display_name": "Python 3",
   "language": "python",
   "name": "python3"
  },
  "language_info": {
   "codemirror_mode": {
    "name": "ipython",
    "version": 3
   },
   "file_extension": ".py",
   "mimetype": "text/x-python",
   "name": "python",
   "nbconvert_exporter": "python",
   "pygments_lexer": "ipython3",
   "version": "3.7.3"
  },
  "varInspector": {
   "cols": {
    "lenName": 16,
    "lenType": 16,
    "lenVar": 40
   },
   "kernels_config": {
    "python": {
     "delete_cmd_postfix": "",
     "delete_cmd_prefix": "del ",
     "library": "var_list.py",
     "varRefreshCmd": "print(var_dic_list())"
    },
    "r": {
     "delete_cmd_postfix": ") ",
     "delete_cmd_prefix": "rm(",
     "library": "var_list.r",
     "varRefreshCmd": "cat(var_dic_list()) "
    }
   },
   "types_to_exclude": [
    "module",
    "function",
    "builtin_function_or_method",
    "instance",
    "_Feature"
   ],
   "window_display": false
  }
 },
 "nbformat": 4,
 "nbformat_minor": 2
}
