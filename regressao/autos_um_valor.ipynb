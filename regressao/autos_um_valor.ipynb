{
 "cells": [
  {
   "cell_type": "code",
   "execution_count": 57,
   "metadata": {},
   "outputs": [],
   "source": [
    "import pandas as pd\n",
    "import numpy as np"
   ]
  },
  {
   "cell_type": "code",
   "execution_count": 58,
   "metadata": {},
   "outputs": [],
   "source": [
    "df = pd.read_csv('autos.csv', encoding = 'ISO-8859-1')"
   ]
  },
  {
   "cell_type": "code",
   "execution_count": 59,
   "metadata": {},
   "outputs": [],
   "source": [
    "# IRRELEVANTES\n",
    "\n",
    "df = df.drop('dateCrawled', axis=1)\n",
    "df = df.drop('dateCreated', axis=1)\n",
    "df = df.drop('nrOfPictures', axis=1)\n",
    "df = df.drop('postalCode', axis=1)\n",
    "df = df.drop('lastSeen', axis=1)"
   ]
  },
  {
   "cell_type": "code",
   "execution_count": 60,
   "metadata": {},
   "outputs": [],
   "source": [
    "# DESBALANCEADOS \n",
    "\n",
    "df['name'].value_counts()\n",
    "df = df.drop('name', axis=1)\n",
    "\n",
    "df['seller'].value_counts()\n",
    "df = df.drop('seller', axis=1)\n",
    "\n",
    "df['offerType'].value_counts()\n",
    "df = df.drop('offerType', axis=1)"
   ]
  },
  {
   "cell_type": "code",
   "execution_count": 61,
   "metadata": {},
   "outputs": [],
   "source": [
    "# INCONSISTENTES\n",
    "\n",
    "i1 = df.loc[df.price <= 10]\n",
    "df = df[df.price > 10]\n",
    "\n",
    "i2 = df.loc[df.price > 350000]\n",
    "df = df[df.price <= 350000]"
   ]
  },
  {
   "cell_type": "code",
   "execution_count": 68,
   "metadata": {},
   "outputs": [],
   "source": [
    "# DELETETANDO ALGUNS NULOS\n",
    "\n",
    "df = df.loc[~pd.isnull(df['vehicleType'])]\n",
    "df = df.loc[~pd.isnull(df['model'])]"
   ]
  },
  {
   "cell_type": "code",
   "execution_count": 73,
   "metadata": {},
   "outputs": [],
   "source": [
    "# PREENCHENDO ALGUNS NULO\n",
    "\n",
    "df.loc[pd.isnull(df['fuelType'])]\n",
    "df['fuelType'].value_counts\n",
    "\n",
    "df.loc[pd.isnull(df['gearbox'])]\n",
    "df['gearbox'].value_counts\n",
    "\n",
    "df.loc[pd.isnull(df['notRepairedDamage'])]\n",
    "df['notRepairedDamage'].value_counts\n",
    "\n",
    "valores = {\"fuelType\": \"benzin\", \"gearbox\": \"manuell\", \"notRepairedDamage\": \"nein\"}\n",
    "df = df.fillna(valores)"
   ]
  },
  {
   "cell_type": "code",
   "execution_count": 74,
   "metadata": {},
   "outputs": [],
   "source": [
    "X = df.iloc[:, 1:13].values\n",
    "y = df['price'].values"
   ]
  },
  {
   "cell_type": "code",
   "execution_count": 79,
   "metadata": {},
   "outputs": [
    {
     "data": {
      "text/plain": [
       "array(['test', 'suv', 2004, 'automatik', 163, 'grand', 125000, 8,\n",
       "       'diesel', 'jeep', 'nein'], dtype=object)"
      ]
     },
     "execution_count": 79,
     "metadata": {},
     "output_type": "execute_result"
    }
   ],
   "source": [
    "from sklearn.preprocessing import LabelEncoder\n",
    "Xlabelencoder = LabelEncoder()\n",
    "\n",
    "X[0]"
   ]
  },
  {
   "cell_type": "code",
   "execution_count": null,
   "metadata": {},
   "outputs": [],
   "source": []
  }
 ],
 "metadata": {
  "kernelspec": {
   "display_name": "Python 3",
   "language": "python",
   "name": "python3"
  },
  "language_info": {
   "codemirror_mode": {
    "name": "ipython",
    "version": 3
   },
   "file_extension": ".py",
   "mimetype": "text/x-python",
   "name": "python",
   "nbconvert_exporter": "python",
   "pygments_lexer": "ipython3",
   "version": "3.7.3"
  },
  "varInspector": {
   "cols": {
    "lenName": 16,
    "lenType": 16,
    "lenVar": 40
   },
   "kernels_config": {
    "python": {
     "delete_cmd_postfix": "",
     "delete_cmd_prefix": "del ",
     "library": "var_list.py",
     "varRefreshCmd": "print(var_dic_list())"
    },
    "r": {
     "delete_cmd_postfix": ") ",
     "delete_cmd_prefix": "rm(",
     "library": "var_list.r",
     "varRefreshCmd": "cat(var_dic_list()) "
    }
   },
   "types_to_exclude": [
    "module",
    "function",
    "builtin_function_or_method",
    "instance",
    "_Feature"
   ],
   "window_display": false
  }
 },
 "nbformat": 4,
 "nbformat_minor": 2
}
