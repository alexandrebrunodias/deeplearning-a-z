{
 "cells": [
  {
   "cell_type": "code",
   "execution_count": null,
   "metadata": {},
   "outputs": [],
   "source": [
    "import pandas as pd\n",
    "import numpy as np\n",
    "\n",
    "df = pd.read_csv('autos.csv', encoding = 'ISO-8859-1')\n",
    "\n",
    "# IRRELEVANTES\n",
    "\n",
    "df = df.drop('dateCrawled', axis=1)\n",
    "df = df.drop('dateCreated', axis=1)\n",
    "df = df.drop('nrOfPictures', axis=1)\n",
    "df = df.drop('postalCode', axis=1)\n",
    "df = df.drop('lastSeen', axis=1)\n",
    "\n",
    "\n",
    "# DESBALANCEADOS \n",
    "\n",
    "# df['name'].value_counts()\n",
    "df = df.drop('name', axis=1)\n",
    "\n",
    "# df['seller'].value_counts()\n",
    "df = df.drop('seller', axis=1)\n",
    "\n",
    "# df['offerType'].value_counts()\n",
    "df = df.drop('offerType', axis=1)\n",
    "\n",
    "# INCONSISTENTES\n",
    "\n",
    "i1 = df.loc[df.price <= 10]\n",
    "df = df[df.price > 10]\n",
    "\n",
    "i2 = df.loc[df.price > 350000]\n",
    "df = df[df.price <= 350000]\n",
    "\n",
    "# DELETETANDO ALGUNS NULOS\n",
    "\n",
    "df = df.loc[~pd.isnull(df['vehicleType'])]\n",
    "df = df.loc[~pd.isnull(df['model'])]\n",
    "\n",
    "\n",
    "# PREENCHENDO ALGUNS NULO\n",
    "\n",
    "df.loc[pd.isnull(df['fuelType'])]\n",
    "df['fuelType'].value_counts\n",
    "\n",
    "df.loc[pd.isnull(df['gearbox'])]\n",
    "df['gearbox'].value_counts\n",
    "\n",
    "df.loc[pd.isnull(df['notRepairedDamage'])]\n",
    "df['notRepairedDamage'].value_counts\n",
    "\n",
    "valores = {\"fuelType\": \"benzin\", \"gearbox\": \"manuell\", \"notRepairedDamage\": \"nein\"}\n",
    "df = df.fillna(valores)"
   ]
  },
  {
   "cell_type": "code",
   "execution_count": null,
   "metadata": {},
   "outputs": [],
   "source": [
    "X = df.iloc[:, 1:].values\n",
    "y = df['price'].values\n",
    "\n",
    "from sklearn.preprocessing import LabelEncoder, OneHotEncoder\n",
    "labelEncoder = LabelEncoder()\n",
    "\n",
    "X[:, 0] = labelEncoder.fit_transform(X[:, 0])\n",
    "X[:, 1] = labelEncoder.fit_transform(X[:, 1])\n",
    "X[:, 3] = labelEncoder.fit_transform(X[:, 3])\n",
    "X[:, 5] = labelEncoder.fit_transform(X[:, 5])\n",
    "X[:, 8] = labelEncoder.fit_transform(X[:, 8])\n",
    "X[:, 9] = labelEncoder.fit_transform(X[:, 9])\n",
    "X[:, 10] = labelEncoder.fit_transform(X[:, 10])\n",
    "\n",
    "ohe = OneHotEncoder(categorical_features=[0, 1, 3, 5, 8, 9, 10])\n",
    "\n",
    "X = ohe.fit_transform(X).toarray()"
   ]
  },
  {
   "cell_type": "code",
   "execution_count": null,
   "metadata": {},
   "outputs": [],
   "source": [
    "from sklearn.model_selection import cross_val_score\n",
    "from keras.models import Sequential\n",
    "from keras.layers import Dense, Dropout\n",
    "from keras.wrappers.scikit_learn import KerasRegressor\n",
    "\n",
    "def criar_rede():\n",
    "    model = Sequential()\n",
    "    \n",
    "    model.add(Dense(units=158, activation='relu', input_dim=315))\n",
    "    model.add(Dense(units=158, activation='relu'))\n",
    "    model.add(Dense(units=1, activation='linear'))\n",
    "    \n",
    "    model.compile(optimizer='adam', loss='mae')\n",
    "    \n",
    "    return model"
   ]
  },
  {
   "cell_type": "code",
   "execution_count": null,
   "metadata": {},
   "outputs": [],
   "source": [
    "model = KerasRegressor(build_fn=criar_rede, epochs=1, batch_size = 10000)\n",
    "result = cross_val_score(estimator=model, X=X, y=y, cv=10, scoring='r2')\n",
    "\n",
    "print(f'Média: {result.mean()}')\n",
    "print(f'Média: {result.std()}')"
   ]
  }
 ],
 "metadata": {
  "kernelspec": {
   "display_name": "Python 3",
   "language": "python",
   "name": "python3"
  },
  "language_info": {
   "codemirror_mode": {
    "name": "ipython",
    "version": 3
   },
   "file_extension": ".py",
   "mimetype": "text/x-python",
   "name": "python",
   "nbconvert_exporter": "python",
   "pygments_lexer": "ipython3",
   "version": "3.7.3"
  },
  "varInspector": {
   "cols": {
    "lenName": 16,
    "lenType": 16,
    "lenVar": 40
   },
   "kernels_config": {
    "python": {
     "delete_cmd_postfix": "",
     "delete_cmd_prefix": "del ",
     "library": "var_list.py",
     "varRefreshCmd": "print(var_dic_list())"
    },
    "r": {
     "delete_cmd_postfix": ") ",
     "delete_cmd_prefix": "rm(",
     "library": "var_list.r",
     "varRefreshCmd": "cat(var_dic_list()) "
    }
   },
   "types_to_exclude": [
    "module",
    "function",
    "builtin_function_or_method",
    "instance",
    "_Feature"
   ],
   "window_display": false
  }
 },
 "nbformat": 4,
 "nbformat_minor": 2
}
